{
 "cells": [
  {
   "cell_type": "markdown",
   "metadata": {},
   "source": [
    "# F-MNIST Classification\n",
    "## Jacob Gomez Rubio and Brandon Ferencik"
   ]
  },
  {
   "cell_type": "code",
   "execution_count": 2,
   "metadata": {
    "scrolled": true
   },
   "outputs": [],
   "source": [
    "import numpy as np\n",
    "import matplotlib.pyplot as plt   # plot results\n",
    "from sklearn.model_selection import KFold   # CV\n",
    "from sklearn.decomposition import PCA # dimensionality reduction\n",
    "from sklearn.neighbors import KNeighborsClassifier   # kNN Model\n",
    "from sklearn.neural_network import MLPClassifier     # NN Model\n",
    "# import timeit   # time computations\n",
    "from tqdm import tqdm_notebook # loading bar to show progress"
   ]
  },
  {
   "cell_type": "code",
   "execution_count": 3,
   "metadata": {
    "scrolled": true
   },
   "outputs": [],
   "source": [
    "# load images from same directory\n",
    "X_train = np.load(\"fmnist-train-imgs.npz\")['X']\n",
    "X_test = np.load(\"fmnist-test-imgs.npz\")['X']\n",
    "Y_train = np.load(\"fmnist-train-labels.npz\")['y']"
   ]
  },
  {
   "cell_type": "code",
   "execution_count": 8,
   "metadata": {},
   "outputs": [
    {
     "name": "stdout",
     "output_type": "stream",
     "text": [
      "training set size: (42000, 784)\n",
      "test set size: (28000, 784)\n",
      "label size (should be same as training set size): (42000,)\n"
     ]
    }
   ],
   "source": [
    "print('training set size: {}'.format(X_train.shape))\n",
    "print('test set size: {}'.format(X_test.shape))\n",
    "print('label size (should be same as training set size): {}'.format(Y_train.shape))"
   ]
  },
  {
   "cell_type": "code",
   "execution_count": 7,
   "metadata": {
    "scrolled": true
   },
   "outputs": [],
   "source": [
    "def getAcc(y_pred,y_test): \n",
    "    return np.mean(y_pred==y_test * 1)"
   ]
  },
  {
   "cell_type": "code",
   "execution_count": 4,
   "metadata": {
    "scrolled": true
   },
   "outputs": [],
   "source": [
    "kfold = KFold(n_splits=4)"
   ]
  },
  {
   "cell_type": "markdown",
   "metadata": {},
   "source": [
    "# kNN Approach"
   ]
  },
  {
   "cell_type": "code",
   "execution_count": 6,
   "metadata": {},
   "outputs": [
    {
     "name": "stdout",
     "output_type": "stream",
     "text": [
      "time: 1.91 ms\n"
     ]
    }
   ],
   "source": [
    "kNN = KNeighborsClassifier(n_neighbors=9)\n",
    "x = np.linspace(0.01, 1, 100) # [0.01, 1] closed interval\n",
    "time = np.zeros(len(x))\n",
    "acc_average = np.zeros(len(x)) \n",
    "acc_fold = np.zeros(kfold.n_splits)"
   ]
  },
  {
   "cell_type": "markdown",
   "metadata": {},
   "source": [
    "### Testing results kNN with PCA reduction\n",
    "Since while knn is an accurate way to predict an input, it is more computationally intensive than other model approaches. Thus, we will compromise between accuracy and dimensionality by using PCA."
   ]
  },
  {
   "cell_type": "code",
   "execution_count": 2,
   "metadata": {},
   "outputs": [
    {
     "ename": "NameError",
     "evalue": "name 'x' is not defined",
     "output_type": "error",
     "traceback": [
      "\u001b[0;31m---------------------------------------------------------------------------\u001b[0m",
      "\u001b[0;31mNameError\u001b[0m                                 Traceback (most recent call last)",
      "\u001b[0;32m<ipython-input-2-0ecc9b5560ba>\u001b[0m in \u001b[0;36m<module>\u001b[0;34m\u001b[0m\n\u001b[1;32m      4\u001b[0m \u001b[0;31m# across all folds and elapsed time to make predictions\u001b[0m\u001b[0;34m\u001b[0m\u001b[0;34m\u001b[0m\u001b[0;34m\u001b[0m\u001b[0m\n\u001b[1;32m      5\u001b[0m \u001b[0;34m\u001b[0m\u001b[0m\n\u001b[0;32m----> 6\u001b[0;31m \u001b[0;32mfor\u001b[0m \u001b[0mi\u001b[0m \u001b[0;32min\u001b[0m \u001b[0mtqdm_notebook\u001b[0m\u001b[0;34m(\u001b[0m\u001b[0mrange\u001b[0m\u001b[0;34m(\u001b[0m\u001b[0mlen\u001b[0m\u001b[0;34m(\u001b[0m\u001b[0mx\u001b[0m\u001b[0;34m)\u001b[0m\u001b[0;34m)\u001b[0m\u001b[0;34m)\u001b[0m\u001b[0;34m:\u001b[0m\u001b[0;34m\u001b[0m\u001b[0;34m\u001b[0m\u001b[0m\n\u001b[0m\u001b[1;32m      7\u001b[0m     \u001b[0;31m# create test/train copies to test with\u001b[0m\u001b[0;34m\u001b[0m\u001b[0;34m\u001b[0m\u001b[0;34m\u001b[0m\u001b[0m\n\u001b[1;32m      8\u001b[0m     \u001b[0mX_trainCopy\u001b[0m \u001b[0;34m=\u001b[0m \u001b[0mX_train\u001b[0m\u001b[0;34m\u001b[0m\u001b[0;34m\u001b[0m\u001b[0m\n",
      "\u001b[0;31mNameError\u001b[0m: name 'x' is not defined"
     ]
    }
   ],
   "source": [
    "# Loop that increases dimension % and makes kNN predictions based \n",
    "    # on dimension size.\n",
    "# Outputs the average accuracy achieved.\n",
    "# across all folds and elapsed time to make predictions\n",
    "\n",
    "for i in tqdm_notebook(range(len(x))): \n",
    "    # create test/train copies to test with\n",
    "    X_trainCopy = X_train\n",
    "    X_testCopy = X_test\n",
    "    pca = PCA(n_components=x[i]) # x is 0.01, 0.02, ... , 1\n",
    "\n",
    "    # train/test copies now have n% dimensionality with PCA\n",
    "    X_trainCopy = pca.fit_transform(X_trainCopy)\n",
    "    X_testCopy = pca.fit_transform(X_testCopy)\n",
    "    \n",
    "    # fit knn model to newly transformed variables (or full dataset if x[i]=1)\n",
    "    kNNmodel.fit(X_trainCopy,Y_train)\n",
    "    # timer for gauging performance time\n",
    "    start = timeit.default_timer()\n",
    "    \n",
    "    j=0\n",
    "    for train_index, test_index in kfold.split(X_trainCopy):\n",
    "        x_train, x_test = X_trainCopy[train_index], X_trainCopy[test_index]\n",
    "        y_train, y_test = Y_train[train_index], Y_train[test_index]\n",
    "        \n",
    "        y_pred = kNNmodel.predict(x_test) # compute y_pred values\n",
    "        acc_fold[j] = getAcc(y_pred,y_test) # where (y_pred == y_test)\n",
    "        print(\"K-Fold acc (%d%% dimensionality): %.5f\" % (x[i]*100, acc_fold[j]))\n",
    "        j+=1\n",
    "        \n",
    "    acc_average[i] = np.mean(acc_fold)\n",
    "    end = timeit.default_timer()\n",
    "    time[i] = end.real - start.real\n",
    "    \n",
    "    print(\"Avg acc (%d%% dimensionality): %.5f\" %(x[i]*100, acc_average[i]))\n",
    "    print(\"Elapsed Time (%d%% dimensionality): %.3f sec\\n\" %(x[i]*100, time[i]))"
   ]
  },
  {
   "cell_type": "markdown",
   "metadata": {},
   "source": [
    "## Plotting results:"
   ]
  },
  {
   "cell_type": "code",
   "execution_count": 7,
   "metadata": {},
   "outputs": [
    {
     "data": {
      "image/png": "[encoded data removed]",
      "text/plain": [
       "<Figure size 432x288 with 1 Axes>"
      ]
     },
     "metadata": {
      "needs_background": "light"
     },
     "output_type": "display_data"
    },
    {
     "name": "stdout",
     "output_type": "stream",
     "text": [
      "time: 258 ms\n"
     ]
    }
   ],
   "source": [
    "plt.plot(x[:-1], acc_average[:-1], 'r-', alpha=0.7)\n",
    "plt.title(\"Dimension vs Accuracy\")\n",
    "plt.xlabel(\"Dimension (%)\")\n",
    "plt.ylabel(\"Accuracy (%)\")\n",
    "plt.show()"
   ]
  },
  {
   "cell_type": "code",
   "execution_count": 115,
   "metadata": {},
   "outputs": [
    {
     "name": "stdout",
     "output_type": "stream",
     "text": [
      "highest accuracy (0.886) at index 92\n"
     ]
    }
   ],
   "source": [
    "# improvements in output accuracy from difference in dimensionality\n",
    "print(\"highest accuracy (%.3f) at index\" % \\\n",
    "      acc_average.max(), acc_average.argmax())"
   ]
  },
  {
   "cell_type": "markdown",
   "metadata": {},
   "source": [
    "### Conclusion\n",
    "After testing different amounts of the `n_components` parameter with the kNN algorithm, we are able to get, at best, **89% accuracy with 92% of our dataset using PCA.**\n",
    "\n",
    "We can go further, though. kNN accuracy only differs by ~3-5% when reducing dimensionality from 92% to 70%. Thus, we can still achieve **accuracy of 85% with only 70% of the dataset** using Principal Component Analysis."
   ]
  },
  {
   "cell_type": "code",
   "execution_count": 116,
   "metadata": {},
   "outputs": [
    {
     "data": {
      "image/png": "[encoded data removed]",
      "text/plain": [
       "<Figure size 432x288 with 1 Axes>"
      ]
     },
     "metadata": {
      "needs_background": "light"
     },
     "output_type": "display_data"
    }
   ],
   "source": [
    "plt.plot(x, time, 'bo', alpha=0.4)\n",
    "plt.title(\"Dimension vs Time\")\n",
    "plt.xlabel(\"Dimension (%)\")\n",
    "plt.ylabel(\"Time (s)\")\n",
    "plt.show()"
   ]
  },
  {
   "cell_type": "code",
   "execution_count": 45,
   "metadata": {},
   "outputs": [
    {
     "data": {
      "text/plain": [
       "(0.0, 0.0)"
      ]
     },
     "execution_count": 45,
     "metadata": {},
     "output_type": "execute_result"
    },
    {
     "name": "stdout",
     "output_type": "stream",
     "text": [
      "time: 6.25 ms\n"
     ]
    }
   ],
   "source": [
    "time[92], time[70]"
   ]
  },
  {
   "cell_type": "markdown",
   "metadata": {},
   "source": [
    "# Feed-Forward Neural Network"
   ]
  },
  {
   "cell_type": "code",
   "execution_count": null,
   "metadata": {},
   "outputs": [],
   "source": [
    "#NN model, learning_rate set to adaptive in order to adjust eta in the gradient descent process\n",
    "X_trainCopy = X_train\n",
    "X_testCopy = X_test\n",
    "# default hidden_layers = (100,)\n",
    "model = MLPClassifier(random_state=1,verbose=True,\\\n",
    "                      solver='adam',learning_rate='adaptive',\\\n",
    "                      learning_rate_init=1e-3)\n",
    "acc_fold = np.zeros(kfold.n_splits) # using 4 splits as above"
   ]
  },
  {
   "cell_type": "markdown",
   "metadata": {},
   "source": [
    "### Predictions to be submitted"
   ]
  },
  {
   "cell_type": "code",
   "execution_count": 6,
   "metadata": {},
   "outputs": [
    {
     "name": "stdout",
     "output_type": "stream",
     "text": [
      "Iteration 1, loss = 4.34788806\n",
      "Iteration 2, loss = 1.37718184\n",
      "Iteration 3, loss = 0.94525043\n",
      "Iteration 4, loss = 0.74090575\n",
      "Iteration 5, loss = 0.65289377\n",
      "Iteration 6, loss = 0.59467840\n",
      "Iteration 7, loss = 0.54424723\n",
      "Iteration 8, loss = 0.50845205\n",
      "Iteration 9, loss = 0.48603448\n",
      "Iteration 10, loss = 0.47131538\n",
      "Iteration 11, loss = 0.44876464\n",
      "Iteration 12, loss = 0.43568092\n",
      "Iteration 13, loss = 0.43445002\n",
      "Iteration 14, loss = 0.42007562\n",
      "Iteration 15, loss = 0.41420379\n",
      "Iteration 16, loss = 0.40771751\n",
      "Iteration 17, loss = 0.40536404\n",
      "Iteration 18, loss = 0.39334342\n",
      "Iteration 19, loss = 0.40861090\n",
      "Iteration 20, loss = 0.40736722\n",
      "Iteration 21, loss = 0.39561334\n",
      "Iteration 22, loss = 0.39668018\n",
      "Iteration 23, loss = 0.39123701\n",
      "Iteration 24, loss = 0.38738328\n",
      "Iteration 25, loss = 0.38636492\n",
      "Iteration 26, loss = 0.38107564\n",
      "Iteration 27, loss = 0.38344481\n",
      "Iteration 28, loss = 0.37148474\n",
      "Iteration 29, loss = 0.36804784\n",
      "Iteration 30, loss = 0.37646687\n",
      "Iteration 31, loss = 0.36511973\n",
      "Iteration 32, loss = 0.35767727\n",
      "Iteration 33, loss = 0.35381569\n",
      "Iteration 34, loss = 0.35998092\n",
      "Iteration 35, loss = 0.35946931\n",
      "Iteration 36, loss = 0.35059728\n",
      "Iteration 37, loss = 0.34552608\n",
      "Iteration 38, loss = 0.34805729\n",
      "Iteration 39, loss = 0.34092192\n",
      "Iteration 40, loss = 0.34698126\n",
      "Iteration 41, loss = 0.34082767\n",
      "Iteration 42, loss = 0.33523194\n",
      "Iteration 43, loss = 0.33857946\n",
      "Iteration 44, loss = 0.33028980\n",
      "Iteration 45, loss = 0.33180448\n",
      "Iteration 46, loss = 0.33408129\n",
      "Iteration 47, loss = 0.33401366\n",
      "Iteration 48, loss = 0.32933056\n",
      "Iteration 49, loss = 0.32477429\n",
      "Iteration 50, loss = 0.32702014\n",
      "Iteration 51, loss = 0.32135353\n",
      "Iteration 52, loss = 0.31861797\n",
      "Iteration 53, loss = 0.31636646\n",
      "Iteration 54, loss = 0.31823184\n",
      "Iteration 55, loss = 0.31703978\n",
      "Iteration 56, loss = 0.31458424\n",
      "Iteration 57, loss = 0.30277925\n",
      "Iteration 58, loss = 0.30268970\n",
      "Iteration 59, loss = 0.31443040\n",
      "Iteration 60, loss = 0.30545932\n",
      "Iteration 61, loss = 0.30725288\n",
      "Iteration 62, loss = 0.30147615\n",
      "Iteration 63, loss = 0.30518684\n",
      "Iteration 64, loss = 0.29803408\n",
      "Iteration 65, loss = 0.30056654\n",
      "Iteration 66, loss = 0.31258686\n",
      "Iteration 67, loss = 0.29548985\n",
      "Iteration 68, loss = 0.31185377\n",
      "Iteration 69, loss = 0.29868180\n",
      "Iteration 70, loss = 0.29530301\n",
      "Iteration 71, loss = 0.29056484\n",
      "Iteration 72, loss = 0.29310114\n",
      "Iteration 73, loss = 0.28820985\n",
      "Iteration 74, loss = 0.28731322\n",
      "Iteration 75, loss = 0.29174179\n",
      "Iteration 76, loss = 0.28900199\n",
      "Iteration 77, loss = 0.29316915\n",
      "Iteration 78, loss = 0.29252271\n",
      "Iteration 79, loss = 0.28126788\n",
      "Iteration 80, loss = 0.29002498\n",
      "Iteration 81, loss = 0.28738610\n",
      "Iteration 82, loss = 0.28454986\n",
      "Iteration 83, loss = 0.28725858\n",
      "Iteration 84, loss = 0.28195491\n",
      "Iteration 85, loss = 0.29249413\n",
      "Iteration 86, loss = 0.28522439\n",
      "Iteration 87, loss = 0.27018332\n",
      "Iteration 88, loss = 0.28931381\n",
      "Iteration 89, loss = 0.28890522\n",
      "Iteration 90, loss = 0.27572525\n",
      "Iteration 91, loss = 0.27481951\n",
      "Iteration 92, loss = 0.27455164\n",
      "Iteration 93, loss = 0.27608648\n",
      "Iteration 94, loss = 0.27371778\n",
      "Iteration 95, loss = 0.27535698\n",
      "Iteration 96, loss = 0.28214100\n",
      "Iteration 97, loss = 0.27321837\n",
      "Iteration 98, loss = 0.27631447\n",
      "Training loss did not improve more than tol=0.000100 for 10 consecutive epochs. Stopping.\n",
      "time: 2min 12s\n"
     ]
    }
   ],
   "source": [
    "model.fit(X_train, Y_train)\n",
    "y_pred = model.predict(X_test)"
   ]
  },
  {
   "cell_type": "markdown",
   "metadata": {},
   "source": [
    "### Cross Validation using k = 4 folds"
   ]
  },
  {
   "cell_type": "code",
   "execution_count": null,
   "metadata": {
    "collapsed": true
   },
   "outputs": [
    {
     "name": "stdout",
     "output_type": "stream",
     "text": [
      "[10500 10501 10502 ... 41997 41998 41999]\n",
      "Iteration 1, loss = 5.16662332\n",
      "Iteration 2, loss = 2.46236417\n",
      "Iteration 3, loss = 1.18672562\n",
      "Iteration 4, loss = 0.84778341\n",
      "Iteration 5, loss = 0.72700102\n",
      "Iteration 6, loss = 0.65465053\n",
      "Iteration 7, loss = 0.60830419\n",
      "Iteration 8, loss = 0.57413584\n",
      "Iteration 9, loss = 0.54226855\n",
      "Iteration 10, loss = 0.52221683\n",
      "Iteration 11, loss = 0.49532480\n",
      "Iteration 12, loss = 0.48578054\n",
      "Iteration 13, loss = 0.46446356\n",
      "Iteration 14, loss = 0.44257714\n",
      "Iteration 15, loss = 0.43125571\n",
      "Iteration 16, loss = 0.42217206\n",
      "Iteration 17, loss = 0.42489891\n",
      "Iteration 18, loss = 0.40358758\n",
      "Iteration 19, loss = 0.39255587\n",
      "Iteration 20, loss = 0.39202323\n",
      "Iteration 21, loss = 0.38369078\n",
      "Iteration 22, loss = 0.38393426\n",
      "Iteration 23, loss = 0.38158798\n",
      "Iteration 24, loss = 0.38265073\n",
      "Iteration 25, loss = 0.36483993\n",
      "Iteration 26, loss = 0.35943331\n",
      "Iteration 27, loss = 0.35913712\n",
      "Iteration 28, loss = 0.36545533\n",
      "Iteration 29, loss = 0.36090405\n",
      "Iteration 30, loss = 0.36989724\n",
      "Iteration 31, loss = 0.35865798\n",
      "Iteration 32, loss = 0.35479417\n",
      "Iteration 33, loss = 0.34839881\n",
      "Iteration 34, loss = 0.33520151\n",
      "Iteration 35, loss = 0.33475419\n",
      "Iteration 36, loss = 0.33613939\n",
      "Iteration 37, loss = 0.35110245\n",
      "Iteration 38, loss = 0.34617320\n",
      "Iteration 39, loss = 0.32504858\n",
      "Iteration 40, loss = 0.33469795\n",
      "Iteration 41, loss = 0.33211940\n",
      "Iteration 42, loss = 0.32250065\n",
      "Iteration 43, loss = 0.32071939\n",
      "Iteration 44, loss = 0.32855543\n",
      "Iteration 45, loss = 0.31926584\n",
      "Iteration 46, loss = 0.31610176\n",
      "Iteration 47, loss = 0.31883805\n",
      "Iteration 48, loss = 0.31848986\n",
      "Iteration 49, loss = 0.31780542\n",
      "Iteration 50, loss = 0.30786739\n",
      "Iteration 51, loss = 0.31982942\n",
      "Iteration 52, loss = 0.29978579\n",
      "Iteration 53, loss = 0.30024326\n",
      "Iteration 54, loss = 0.31081296\n",
      "Iteration 55, loss = 0.30638402\n",
      "Iteration 56, loss = 0.30113565\n",
      "Iteration 57, loss = 0.29238675\n",
      "Iteration 58, loss = 0.30549471\n",
      "Iteration 59, loss = 0.29739992\n",
      "Iteration 60, loss = 0.29521939\n",
      "Iteration 61, loss = 0.29530192\n",
      "Iteration 62, loss = 0.29297733\n",
      "Iteration 63, loss = 0.28294665\n",
      "Iteration 64, loss = 0.29374374\n",
      "Iteration 65, loss = 0.29642045\n",
      "Iteration 66, loss = 0.28008361\n",
      "Iteration 67, loss = 0.28354050\n",
      "Iteration 68, loss = 0.28653119\n",
      "Iteration 69, loss = 0.29044512\n",
      "Iteration 70, loss = 0.27245492\n",
      "Iteration 71, loss = 0.28392725\n",
      "Iteration 72, loss = 0.27840465\n",
      "Iteration 73, loss = 0.27548130\n",
      "Iteration 74, loss = 0.27997232\n",
      "Iteration 75, loss = 0.28146479\n",
      "Iteration 76, loss = 0.27790829\n"
     ]
    },
    {
     "name": "stderr",
     "output_type": "stream",
     "text": [
      "/Users/jacob/anaconda3/lib/python3.6/site-packages/sklearn/neural_network/multilayer_perceptron.py:564: UserWarning: Training interrupted by user.\n",
      "  warnings.warn(\"Training interrupted by user.\")\n"
     ]
    },
    {
     "name": "stdout",
     "output_type": "stream",
     "text": [
      "Accuracy on fold 1: 0.85610 \n",
      "\n",
      "[    0     1     2 ... 41997 41998 41999]\n",
      "Iteration 1, loss = 5.20301117\n",
      "Iteration 2, loss = 2.25205316\n",
      "Iteration 3, loss = 1.09968552\n",
      "Iteration 4, loss = 0.84971929\n",
      "Iteration 5, loss = 0.72589082\n",
      "Iteration 6, loss = 0.65192348\n",
      "Iteration 7, loss = 0.60956955\n",
      "Iteration 8, loss = 0.56954028\n",
      "Iteration 9, loss = 0.53653514\n",
      "Iteration 10, loss = 0.50889464\n",
      "Iteration 11, loss = 0.49339429\n",
      "Iteration 12, loss = 0.47005188\n",
      "Iteration 13, loss = 0.45524062\n",
      "Iteration 14, loss = 0.43738171\n",
      "Iteration 15, loss = 0.43071600\n",
      "Iteration 16, loss = 0.41536261\n",
      "Iteration 17, loss = 0.42410570\n",
      "Iteration 18, loss = 0.39296365\n",
      "Iteration 19, loss = 0.38576063\n",
      "Iteration 20, loss = 0.38509394\n",
      "Iteration 21, loss = 0.38736720\n",
      "Iteration 22, loss = 0.38793805\n",
      "Iteration 23, loss = 0.38184639\n",
      "Iteration 24, loss = 0.38232236\n",
      "Iteration 25, loss = 0.36977717\n",
      "Iteration 26, loss = 0.36344558\n",
      "Iteration 27, loss = 0.37379463\n",
      "Iteration 28, loss = 0.35751448\n",
      "Iteration 29, loss = 0.34689101\n",
      "Iteration 30, loss = 0.34981910\n",
      "Iteration 31, loss = 0.34670674\n",
      "Iteration 32, loss = 0.34317846\n",
      "Iteration 33, loss = 0.35079855\n",
      "Iteration 34, loss = 0.33519546\n",
      "Iteration 35, loss = 0.34792601\n",
      "Iteration 36, loss = 0.33800250\n",
      "Iteration 37, loss = 0.33517721\n",
      "Iteration 38, loss = 0.33411001\n",
      "Iteration 39, loss = 0.33489945\n",
      "Iteration 40, loss = 0.33109765\n",
      "Iteration 41, loss = 0.32250972\n",
      "Iteration 42, loss = 0.33048025\n",
      "Iteration 43, loss = 0.33213629\n",
      "Iteration 44, loss = 0.32370085\n",
      "Iteration 45, loss = 0.31480962\n",
      "Iteration 46, loss = 0.32412528\n",
      "Iteration 47, loss = 0.31947316\n",
      "Iteration 48, loss = 0.31854192\n",
      "Iteration 49, loss = 0.31218247\n",
      "Iteration 50, loss = 0.31998851\n",
      "Iteration 51, loss = 0.31380240\n",
      "Iteration 52, loss = 0.30875300\n",
      "Iteration 53, loss = 0.29924909\n",
      "Iteration 54, loss = 0.30377455\n",
      "Iteration 55, loss = 0.30531111\n",
      "Iteration 56, loss = 0.31183135\n",
      "Iteration 57, loss = 0.29713589\n",
      "Iteration 58, loss = 0.30495499\n",
      "Iteration 59, loss = 0.29985279\n",
      "Iteration 60, loss = 0.30340370\n",
      "Iteration 61, loss = 0.29559052\n",
      "Iteration 62, loss = 0.30646206\n",
      "Iteration 63, loss = 0.28797865\n",
      "Iteration 64, loss = 0.28651429\n",
      "Iteration 65, loss = 0.29630043\n",
      "Iteration 66, loss = 0.28369087\n",
      "Iteration 67, loss = 0.28866961\n",
      "Iteration 68, loss = 0.29622675\n",
      "Iteration 69, loss = 0.29393565\n",
      "Iteration 70, loss = 0.27977710\n",
      "Iteration 71, loss = 0.27526110\n",
      "Iteration 72, loss = 0.28609348\n",
      "Iteration 73, loss = 0.28994276\n",
      "Iteration 74, loss = 0.28964200\n",
      "Iteration 75, loss = 0.28637099\n",
      "Iteration 76, loss = 0.29146683\n",
      "Iteration 77, loss = 0.27914870\n",
      "Iteration 78, loss = 0.27504108\n",
      "Iteration 79, loss = 0.26892784\n",
      "Iteration 80, loss = 0.29513486\n",
      "Iteration 81, loss = 0.28968417\n",
      "Iteration 82, loss = 0.27337054\n",
      "Iteration 83, loss = 0.27263260\n",
      "Iteration 84, loss = 0.27930294\n",
      "Iteration 85, loss = 0.27798610\n"
     ]
    }
   ],
   "source": [
    "#Trains NN model across all folds and asseses acccuracy of the predictions\n",
    "#Outputs the average accuracy achieved\n",
    "i = 0\n",
    "for train_index, test_index in kfold.split(X_train):\n",
    "    print(train_index)\n",
    "    x_train, x_test = X_train[train_index], X_train[test_index]\n",
    "    y_train, y_test = Y_train[train_index], Y_train[test_index]\n",
    "    \n",
    "    model.fit(x_train,y_train)\n",
    "    y_pred = model.predict(x_test)\n",
    "    \n",
    "    acc_fold[i] = getAcc(y_pred, y_test)\n",
    "    print(\"Accuracy on fold %d: %.5f \\n\" % (i+1, acc_fold[i]))\n",
    "    i= i+1"
   ]
  },
  {
   "cell_type": "markdown",
   "metadata": {},
   "source": [
    "### Training with a Neural Network is much faster.\n",
    "The above neural network is able to classify with 85% accuracy using full dimensionality of the dataset. Computation time averages 6-7 minutes whereas kNN took an average of 60 minutes.\n",
    "\n",
    "We can safely conclude that the model is trained ~10x faster by means of a neural network."
   ]
  },
  {
   "cell_type": "code",
   "execution_count": 44,
   "metadata": {},
   "outputs": [
    {
     "name": "stdout",
     "output_type": "stream",
     "text": [
      "0.8509047619047619\n",
      "time: 978 µs\n"
     ]
    }
   ],
   "source": [
    "acc_average = np.mean(acc_fold)\n",
    "print(acc_average)"
   ]
  },
  {
   "cell_type": "markdown",
   "metadata": {},
   "source": [
    "# Submission"
   ]
  },
  {
   "cell_type": "code",
   "execution_count": 9,
   "metadata": {},
   "outputs": [
    {
     "name": "stdout",
     "output_type": "stream",
     "text": [
      "time: 152 ms\n"
     ]
    }
   ],
   "source": [
    "solutions = np.zeros((28000, 2))\n",
    "solutions[:,0] = np.arange(1,28001)\n",
    "solutions[:,1] = y_pred\n",
    "solutions = solutions.astype(int)\n",
    "np.savetxt(\"solutions-jacobgomez-brandonferencik.csv\", solutions, \n",
    "           fmt='%s', header = 'Id,Category', delimiter = ',', comments='')"
   ]
  }
 ],
 "metadata": {
  "kernelspec": {
   "display_name": "Python 3",
   "language": "python",
   "name": "python3"
  },
  "language_info": {
   "codemirror_mode": {
    "name": "ipython",
    "version": 3
   },
   "file_extension": ".py",
   "mimetype": "text/x-python",
   "name": "python",
   "nbconvert_exporter": "python",
   "pygments_lexer": "ipython3",
   "version": "3.6.10"
  },
  "toc": {
   "base_numbering": 1,
   "nav_menu": {},
   "number_sections": true,
   "sideBar": true,
   "skip_h1_title": false,
   "title_cell": "Table of Contents",
   "title_sidebar": "Outline",
   "toc_cell": false,
   "toc_position": {
    "height": "calc(100% - 180px)",
    "left": "10px",
    "top": "150px",
    "width": "242px"
   },
   "toc_section_display": true,
   "toc_window_display": true
  }
 },
 "nbformat": 4,
 "nbformat_minor": 2
}
